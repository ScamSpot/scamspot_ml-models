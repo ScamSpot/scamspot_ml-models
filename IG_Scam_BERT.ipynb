{
  "cells": [
    {
      "cell_type": "markdown",
      "metadata": {
        "id": "-INlSfgHgBzA"
      },
      "source": [
        "# Installing and Importing Dependencies"
      ]
    },
    {
      "cell_type": "code",
      "execution_count": null,
      "metadata": {
        "colab": {
          "base_uri": "https://localhost:8080/"
        },
        "id": "Qc5FU0v82Avh",
        "outputId": "7bbefe21-8cff-49ba-a8ed-898d7930a158"
      },
      "outputs": [
        {
          "output_type": "stream",
          "name": "stdout",
          "text": [
            "Looking in indexes: https://pypi.org/simple, https://us-python.pkg.dev/colab-wheels/public/simple/\n",
            "Requirement already satisfied: transformers in /usr/local/lib/python3.10/dist-packages (4.29.1)\n",
            "Requirement already satisfied: filelock in /usr/local/lib/python3.10/dist-packages (from transformers) (3.12.0)\n",
            "Requirement already satisfied: huggingface-hub<1.0,>=0.14.1 in /usr/local/lib/python3.10/dist-packages (from transformers) (0.14.1)\n",
            "Requirement already satisfied: numpy>=1.17 in /usr/local/lib/python3.10/dist-packages (from transformers) (1.22.4)\n",
            "Requirement already satisfied: packaging>=20.0 in /usr/local/lib/python3.10/dist-packages (from transformers) (23.1)\n",
            "Requirement already satisfied: pyyaml>=5.1 in /usr/local/lib/python3.10/dist-packages (from transformers) (6.0)\n",
            "Requirement already satisfied: regex!=2019.12.17 in /usr/local/lib/python3.10/dist-packages (from transformers) (2022.10.31)\n",
            "Requirement already satisfied: requests in /usr/local/lib/python3.10/dist-packages (from transformers) (2.27.1)\n",
            "Requirement already satisfied: tokenizers!=0.11.3,<0.14,>=0.11.1 in /usr/local/lib/python3.10/dist-packages (from transformers) (0.13.3)\n",
            "Requirement already satisfied: tqdm>=4.27 in /usr/local/lib/python3.10/dist-packages (from transformers) (4.65.0)\n",
            "Requirement already satisfied: fsspec in /usr/local/lib/python3.10/dist-packages (from huggingface-hub<1.0,>=0.14.1->transformers) (2023.4.0)\n",
            "Requirement already satisfied: typing-extensions>=3.7.4.3 in /usr/local/lib/python3.10/dist-packages (from huggingface-hub<1.0,>=0.14.1->transformers) (4.5.0)\n",
            "Requirement already satisfied: urllib3<1.27,>=1.21.1 in /usr/local/lib/python3.10/dist-packages (from requests->transformers) (1.26.15)\n",
            "Requirement already satisfied: certifi>=2017.4.17 in /usr/local/lib/python3.10/dist-packages (from requests->transformers) (2022.12.7)\n",
            "Requirement already satisfied: charset-normalizer~=2.0.0 in /usr/local/lib/python3.10/dist-packages (from requests->transformers) (2.0.12)\n",
            "Requirement already satisfied: idna<4,>=2.5 in /usr/local/lib/python3.10/dist-packages (from requests->transformers) (3.4)\n"
          ]
        }
      ],
      "source": [
        "!pip install transformers"
      ]
    },
    {
      "cell_type": "code",
      "execution_count": null,
      "metadata": {
        "id": "uBT2n_h2wuRC"
      },
      "outputs": [],
      "source": [
        "import pandas as pd\n",
        "import numpy as np\n",
        "import matplotlib.pyplot as plt\n",
        "import seaborn as sns\n",
        "from collections import defaultdict\n",
        "\n",
        "from sklearn.model_selection import train_test_split as tts\n",
        "from sklearn.metrics import accuracy_score, precision_score, recall_score, roc_auc_score, f1_score, confusion_matrix\n",
        "\n",
        "import torch\n",
        "import torch.nn as nn\n",
        "import torch.optim as optim\n",
        "from torch.utils.data import Dataset, DataLoader\n",
        "\n",
        "from transformers import BertTokenizer, BertModel, AdamW, get_linear_schedule_with_warmup\n",
        "\n",
        "import warnings\n",
        "warnings.filterwarnings('ignore')\n",
        "\n",
        "import math\n"
      ]
    },
    {
      "cell_type": "markdown",
      "metadata": {
        "id": "RFGN_FrkgLj2"
      },
      "source": [
        "# Setting Variables"
      ]
    },
    {
      "cell_type": "code",
      "execution_count": null,
      "metadata": {
        "colab": {
          "base_uri": "https://localhost:8080/"
        },
        "id": "y9nJO_X24fLB",
        "outputId": "70b07d4f-2da7-4e45-b22c-9d97e69b7735"
      },
      "outputs": [
        {
          "output_type": "stream",
          "name": "stdout",
          "text": [
            "cuda\n"
          ]
        }
      ],
      "source": [
        "PRE_TRAINED_MODEL_NAME = 'bert-base-cased'\n",
        "device = torch.device('cuda' if torch.cuda.is_available() else 'cpu')\n",
        "print(device)\n",
        "tokenizer = BertTokenizer.from_pretrained(PRE_TRAINED_MODEL_NAME)\n",
        "EPOCHS=10 #4 #10\n",
        "MAX_LEN=512\n",
        "BATCH_SIZE=16"
      ]
    },
    {
      "cell_type": "markdown",
      "metadata": {
        "id": "ietiWNbYgR-i"
      },
      "source": [
        "# Reading and Preprocessing Data"
      ]
    },
    {
      "cell_type": "code",
      "execution_count": null,
      "metadata": {
        "colab": {
          "base_uri": "https://localhost:8080/",
          "height": 206
        },
        "id": "iQ6uw08ox3XY",
        "outputId": "579b14fd-58f4-4ac0-810f-7105e1b8d3ec"
      },
      "outputs": [
        {
          "output_type": "execute_result",
          "data": {
            "text/plain": [
              "   number  scam  msg_length                                                msg\n",
              "0       0     1         261  entrepreneurship isn’t easy just like protesti...\n",
              "1       1     0           4                                               yup!\n",
              "2       2     0           3                                                😂😂😂\n",
              "3       3     1         366  $babyqj 0x800e9d435dcef7a5d43be2bbc5b5cb280fcd...\n",
              "4       4     0          80  27 crore 😮😮😮😮 say whattt... you are inspiring ..."
            ],
            "text/html": [
              "\n",
              "  <div id=\"df-1bda66c0-9b50-47ae-9ca3-f8179af51400\">\n",
              "    <div class=\"colab-df-container\">\n",
              "      <div>\n",
              "<style scoped>\n",
              "    .dataframe tbody tr th:only-of-type {\n",
              "        vertical-align: middle;\n",
              "    }\n",
              "\n",
              "    .dataframe tbody tr th {\n",
              "        vertical-align: top;\n",
              "    }\n",
              "\n",
              "    .dataframe thead th {\n",
              "        text-align: right;\n",
              "    }\n",
              "</style>\n",
              "<table border=\"1\" class=\"dataframe\">\n",
              "  <thead>\n",
              "    <tr style=\"text-align: right;\">\n",
              "      <th></th>\n",
              "      <th>number</th>\n",
              "      <th>scam</th>\n",
              "      <th>msg_length</th>\n",
              "      <th>msg</th>\n",
              "    </tr>\n",
              "  </thead>\n",
              "  <tbody>\n",
              "    <tr>\n",
              "      <th>0</th>\n",
              "      <td>0</td>\n",
              "      <td>1</td>\n",
              "      <td>261</td>\n",
              "      <td>entrepreneurship isn’t easy just like protesti...</td>\n",
              "    </tr>\n",
              "    <tr>\n",
              "      <th>1</th>\n",
              "      <td>1</td>\n",
              "      <td>0</td>\n",
              "      <td>4</td>\n",
              "      <td>yup!</td>\n",
              "    </tr>\n",
              "    <tr>\n",
              "      <th>2</th>\n",
              "      <td>2</td>\n",
              "      <td>0</td>\n",
              "      <td>3</td>\n",
              "      <td>😂😂😂</td>\n",
              "    </tr>\n",
              "    <tr>\n",
              "      <th>3</th>\n",
              "      <td>3</td>\n",
              "      <td>1</td>\n",
              "      <td>366</td>\n",
              "      <td>$babyqj 0x800e9d435dcef7a5d43be2bbc5b5cb280fcd...</td>\n",
              "    </tr>\n",
              "    <tr>\n",
              "      <th>4</th>\n",
              "      <td>4</td>\n",
              "      <td>0</td>\n",
              "      <td>80</td>\n",
              "      <td>27 crore 😮😮😮😮 say whattt... you are inspiring ...</td>\n",
              "    </tr>\n",
              "  </tbody>\n",
              "</table>\n",
              "</div>\n",
              "      <button class=\"colab-df-convert\" onclick=\"convertToInteractive('df-1bda66c0-9b50-47ae-9ca3-f8179af51400')\"\n",
              "              title=\"Convert this dataframe to an interactive table.\"\n",
              "              style=\"display:none;\">\n",
              "        \n",
              "  <svg xmlns=\"http://www.w3.org/2000/svg\" height=\"24px\"viewBox=\"0 0 24 24\"\n",
              "       width=\"24px\">\n",
              "    <path d=\"M0 0h24v24H0V0z\" fill=\"none\"/>\n",
              "    <path d=\"M18.56 5.44l.94 2.06.94-2.06 2.06-.94-2.06-.94-.94-2.06-.94 2.06-2.06.94zm-11 1L8.5 8.5l.94-2.06 2.06-.94-2.06-.94L8.5 2.5l-.94 2.06-2.06.94zm10 10l.94 2.06.94-2.06 2.06-.94-2.06-.94-.94-2.06-.94 2.06-2.06.94z\"/><path d=\"M17.41 7.96l-1.37-1.37c-.4-.4-.92-.59-1.43-.59-.52 0-1.04.2-1.43.59L10.3 9.45l-7.72 7.72c-.78.78-.78 2.05 0 2.83L4 21.41c.39.39.9.59 1.41.59.51 0 1.02-.2 1.41-.59l7.78-7.78 2.81-2.81c.8-.78.8-2.07 0-2.86zM5.41 20L4 18.59l7.72-7.72 1.47 1.35L5.41 20z\"/>\n",
              "  </svg>\n",
              "      </button>\n",
              "      \n",
              "  <style>\n",
              "    .colab-df-container {\n",
              "      display:flex;\n",
              "      flex-wrap:wrap;\n",
              "      gap: 12px;\n",
              "    }\n",
              "\n",
              "    .colab-df-convert {\n",
              "      background-color: #E8F0FE;\n",
              "      border: none;\n",
              "      border-radius: 50%;\n",
              "      cursor: pointer;\n",
              "      display: none;\n",
              "      fill: #1967D2;\n",
              "      height: 32px;\n",
              "      padding: 0 0 0 0;\n",
              "      width: 32px;\n",
              "    }\n",
              "\n",
              "    .colab-df-convert:hover {\n",
              "      background-color: #E2EBFA;\n",
              "      box-shadow: 0px 1px 2px rgba(60, 64, 67, 0.3), 0px 1px 3px 1px rgba(60, 64, 67, 0.15);\n",
              "      fill: #174EA6;\n",
              "    }\n",
              "\n",
              "    [theme=dark] .colab-df-convert {\n",
              "      background-color: #3B4455;\n",
              "      fill: #D2E3FC;\n",
              "    }\n",
              "\n",
              "    [theme=dark] .colab-df-convert:hover {\n",
              "      background-color: #434B5C;\n",
              "      box-shadow: 0px 1px 3px 1px rgba(0, 0, 0, 0.15);\n",
              "      filter: drop-shadow(0px 1px 2px rgba(0, 0, 0, 0.3));\n",
              "      fill: #FFFFFF;\n",
              "    }\n",
              "  </style>\n",
              "\n",
              "      <script>\n",
              "        const buttonEl =\n",
              "          document.querySelector('#df-1bda66c0-9b50-47ae-9ca3-f8179af51400 button.colab-df-convert');\n",
              "        buttonEl.style.display =\n",
              "          google.colab.kernel.accessAllowed ? 'block' : 'none';\n",
              "\n",
              "        async function convertToInteractive(key) {\n",
              "          const element = document.querySelector('#df-1bda66c0-9b50-47ae-9ca3-f8179af51400');\n",
              "          const dataTable =\n",
              "            await google.colab.kernel.invokeFunction('convertToInteractive',\n",
              "                                                     [key], {});\n",
              "          if (!dataTable) return;\n",
              "\n",
              "          const docLinkHtml = 'Like what you see? Visit the ' +\n",
              "            '<a target=\"_blank\" href=https://colab.research.google.com/notebooks/data_table.ipynb>data table notebook</a>'\n",
              "            + ' to learn more about interactive tables.';\n",
              "          element.innerHTML = '';\n",
              "          dataTable['output_type'] = 'display_data';\n",
              "          await google.colab.output.renderOutput(dataTable, element);\n",
              "          const docLink = document.createElement('div');\n",
              "          docLink.innerHTML = docLinkHtml;\n",
              "          element.appendChild(docLink);\n",
              "        }\n",
              "      </script>\n",
              "    </div>\n",
              "  </div>\n",
              "  "
            ]
          },
          "metadata": {},
          "execution_count": 10
        }
      ],
      "source": [
        "# first version:\n",
        "# df = pd.read_csv('https://gist.githubusercontent.com/stefanerben/998f0be84ae3e483e79cfdfc2c32439d/raw/5c5c1489a13d73df13af0bdc3ab4f2ba82c466e8/comments-rating.csv')[['msg', 'scam']]\n",
        "\n",
        "df = pd.read_csv('https://gist.githubusercontent.com/stefanerben/8f166d2d285645ac50568eea9324ba05/raw/3cba3c0db042fab4d9c577c8e8c751cca5ee2d0f/comments-rating.csv')\n",
        "df.head()"
      ]
    },
    {
      "cell_type": "code",
      "execution_count": null,
      "metadata": {
        "colab": {
          "base_uri": "https://localhost:8080/"
        },
        "id": "5Vz5fBKRx9c_",
        "outputId": "41df95fc-3dfe-47e5-90ec-fcc1229945ca"
      },
      "outputs": [
        {
          "output_type": "execute_result",
          "data": {
            "text/plain": [
              "(3586, 4)"
            ]
          },
          "metadata": {},
          "execution_count": 11
        }
      ],
      "source": [
        "df.shape"
      ]
    },
    {
      "cell_type": "code",
      "execution_count": null,
      "metadata": {
        "id": "78kRG9Qkzi3W"
      },
      "outputs": [],
      "source": [
        "class ScamCollectionDataset(Dataset):\n",
        "    def __init__(self, scam, msgs, tokenizer, max_len):\n",
        "        self.msgs = msgs\n",
        "        self.scam = scam\n",
        "        self.tokenizer = tokenizer\n",
        "        self.max_len = max_len\n",
        "\n",
        "    def __len__(self):\n",
        "        return len(self.msgs)\n",
        "\n",
        "    def __getitem__(self, i):\n",
        "        msg = str(self.msgs[i])\n",
        "        scam = self.scam[i]\n",
        "\n",
        "        encoding = self.tokenizer.encode_plus(\n",
        "            msg, \n",
        "            add_special_tokens=True,\n",
        "            max_length=self.max_len,\n",
        "            truncation=True,\n",
        "            return_token_type_ids=False,\n",
        "            pad_to_max_length=True,\n",
        "            return_attention_mask=True,\n",
        "            return_tensors='pt'\n",
        "        )\n",
        "\n",
        "        return {\n",
        "            'msg': msg,\n",
        "            'input_ids': encoding['input_ids'].flatten(),\n",
        "            'attention_mask': encoding['attention_mask'].flatten(),\n",
        "            'scam': torch.tensor(scam, dtype=torch.long)\n",
        "        }"
      ]
    },
    {
      "cell_type": "code",
      "execution_count": null,
      "metadata": {
        "id": "0RK3hJDCzS73"
      },
      "outputs": [],
      "source": [
        "def create_data_loader(df, tokenizer, max_len, batch_size):\n",
        "    ds = ScamCollectionDataset(\n",
        "        scam=df['scam'].to_numpy(),\n",
        "        msgs=df['msg'].to_numpy(),\n",
        "        tokenizer=tokenizer,\n",
        "        max_len=max_len\n",
        "    )\n",
        "\n",
        "    return DataLoader(\n",
        "        ds,\n",
        "        batch_size=batch_size,\n",
        "        num_workers=4\n",
        "    )"
      ]
    },
    {
      "cell_type": "code",
      "execution_count": null,
      "metadata": {
        "colab": {
          "base_uri": "https://localhost:8080/"
        },
        "id": "VsfQUZPQyPLl",
        "outputId": "34a949c1-a637-4df8-b68d-8fa1de4ccea6"
      },
      "outputs": [
        {
          "output_type": "execute_result",
          "data": {
            "text/plain": [
              "((2868, 4), (359, 4), (359, 4))"
            ]
          },
          "metadata": {},
          "execution_count": 14
        }
      ],
      "source": [
        "# 80:10:10\n",
        "df_train, df_test = tts(\n",
        "    df,\n",
        "    test_size=0.2,\n",
        "    random_state=42\n",
        ")\n",
        "df_val, df_test = tts(\n",
        "    df_test,\n",
        "    test_size=0.5,\n",
        "    random_state=42\n",
        ")\n",
        "df_train.shape, df_test.shape, df_val.shape"
      ]
    },
    {
      "cell_type": "code",
      "execution_count": null,
      "metadata": {
        "colab": {
          "base_uri": "https://localhost:8080/",
          "height": 423
        },
        "id": "3JAPizgRGsxF",
        "outputId": "c5f9c793-0319-4771-f904-8bd365538d0f"
      },
      "outputs": [
        {
          "output_type": "execute_result",
          "data": {
            "text/plain": [
              "      number  scam  msg_length  \\\n",
              "177      177     1         143   \n",
              "829      829     0          30   \n",
              "1106    1106     0          49   \n",
              "2872    2872     0          10   \n",
              "1869    1869     0          34   \n",
              "...      ...   ...         ...   \n",
              "1130    1130     0          36   \n",
              "1294    1294     1         227   \n",
              "860      860     0         105   \n",
              "3507       0     0          23   \n",
              "3174    3174     0          15   \n",
              "\n",
              "                                                    msg  \n",
              "177   am speechless seeing myself having my first pa...  \n",
              "829                      cuando llegara a panamá 🇵🇦🇵🇦🇵🇦  \n",
              "1106  i saw pasture raised eggs for $10 at one store!!!  \n",
              "2872                                         ❤️❤️❤️❤️❤️  \n",
              "1869                 the dude are legend in crime lol 😂  \n",
              "...                                                 ...  \n",
              "1130               & zelda inu both saving puppies 🐶 💙🙏  \n",
              "1294  few people have 👏🏽 the privilege of having suc...  \n",
              "860   you do know that these accounts are handled by...  \n",
              "3507                            #Renewable_Energy_Token  \n",
              "3174                                    @colin_reichert  \n",
              "\n",
              "[2868 rows x 4 columns]"
            ],
            "text/html": [
              "\n",
              "  <div id=\"df-28c5cd20-080d-4650-b921-2279326d1aad\">\n",
              "    <div class=\"colab-df-container\">\n",
              "      <div>\n",
              "<style scoped>\n",
              "    .dataframe tbody tr th:only-of-type {\n",
              "        vertical-align: middle;\n",
              "    }\n",
              "\n",
              "    .dataframe tbody tr th {\n",
              "        vertical-align: top;\n",
              "    }\n",
              "\n",
              "    .dataframe thead th {\n",
              "        text-align: right;\n",
              "    }\n",
              "</style>\n",
              "<table border=\"1\" class=\"dataframe\">\n",
              "  <thead>\n",
              "    <tr style=\"text-align: right;\">\n",
              "      <th></th>\n",
              "      <th>number</th>\n",
              "      <th>scam</th>\n",
              "      <th>msg_length</th>\n",
              "      <th>msg</th>\n",
              "    </tr>\n",
              "  </thead>\n",
              "  <tbody>\n",
              "    <tr>\n",
              "      <th>177</th>\n",
              "      <td>177</td>\n",
              "      <td>1</td>\n",
              "      <td>143</td>\n",
              "      <td>am speechless seeing myself having my first pa...</td>\n",
              "    </tr>\n",
              "    <tr>\n",
              "      <th>829</th>\n",
              "      <td>829</td>\n",
              "      <td>0</td>\n",
              "      <td>30</td>\n",
              "      <td>cuando llegara a panamá 🇵🇦🇵🇦🇵🇦</td>\n",
              "    </tr>\n",
              "    <tr>\n",
              "      <th>1106</th>\n",
              "      <td>1106</td>\n",
              "      <td>0</td>\n",
              "      <td>49</td>\n",
              "      <td>i saw pasture raised eggs for $10 at one store!!!</td>\n",
              "    </tr>\n",
              "    <tr>\n",
              "      <th>2872</th>\n",
              "      <td>2872</td>\n",
              "      <td>0</td>\n",
              "      <td>10</td>\n",
              "      <td>❤️❤️❤️❤️❤️</td>\n",
              "    </tr>\n",
              "    <tr>\n",
              "      <th>1869</th>\n",
              "      <td>1869</td>\n",
              "      <td>0</td>\n",
              "      <td>34</td>\n",
              "      <td>the dude are legend in crime lol 😂</td>\n",
              "    </tr>\n",
              "    <tr>\n",
              "      <th>...</th>\n",
              "      <td>...</td>\n",
              "      <td>...</td>\n",
              "      <td>...</td>\n",
              "      <td>...</td>\n",
              "    </tr>\n",
              "    <tr>\n",
              "      <th>1130</th>\n",
              "      <td>1130</td>\n",
              "      <td>0</td>\n",
              "      <td>36</td>\n",
              "      <td>&amp; zelda inu both saving puppies 🐶 💙🙏</td>\n",
              "    </tr>\n",
              "    <tr>\n",
              "      <th>1294</th>\n",
              "      <td>1294</td>\n",
              "      <td>1</td>\n",
              "      <td>227</td>\n",
              "      <td>few people have 👏🏽 the privilege of having suc...</td>\n",
              "    </tr>\n",
              "    <tr>\n",
              "      <th>860</th>\n",
              "      <td>860</td>\n",
              "      <td>0</td>\n",
              "      <td>105</td>\n",
              "      <td>you do know that these accounts are handled by...</td>\n",
              "    </tr>\n",
              "    <tr>\n",
              "      <th>3507</th>\n",
              "      <td>0</td>\n",
              "      <td>0</td>\n",
              "      <td>23</td>\n",
              "      <td>#Renewable_Energy_Token</td>\n",
              "    </tr>\n",
              "    <tr>\n",
              "      <th>3174</th>\n",
              "      <td>3174</td>\n",
              "      <td>0</td>\n",
              "      <td>15</td>\n",
              "      <td>@colin_reichert</td>\n",
              "    </tr>\n",
              "  </tbody>\n",
              "</table>\n",
              "<p>2868 rows × 4 columns</p>\n",
              "</div>\n",
              "      <button class=\"colab-df-convert\" onclick=\"convertToInteractive('df-28c5cd20-080d-4650-b921-2279326d1aad')\"\n",
              "              title=\"Convert this dataframe to an interactive table.\"\n",
              "              style=\"display:none;\">\n",
              "        \n",
              "  <svg xmlns=\"http://www.w3.org/2000/svg\" height=\"24px\"viewBox=\"0 0 24 24\"\n",
              "       width=\"24px\">\n",
              "    <path d=\"M0 0h24v24H0V0z\" fill=\"none\"/>\n",
              "    <path d=\"M18.56 5.44l.94 2.06.94-2.06 2.06-.94-2.06-.94-.94-2.06-.94 2.06-2.06.94zm-11 1L8.5 8.5l.94-2.06 2.06-.94-2.06-.94L8.5 2.5l-.94 2.06-2.06.94zm10 10l.94 2.06.94-2.06 2.06-.94-2.06-.94-.94-2.06-.94 2.06-2.06.94z\"/><path d=\"M17.41 7.96l-1.37-1.37c-.4-.4-.92-.59-1.43-.59-.52 0-1.04.2-1.43.59L10.3 9.45l-7.72 7.72c-.78.78-.78 2.05 0 2.83L4 21.41c.39.39.9.59 1.41.59.51 0 1.02-.2 1.41-.59l7.78-7.78 2.81-2.81c.8-.78.8-2.07 0-2.86zM5.41 20L4 18.59l7.72-7.72 1.47 1.35L5.41 20z\"/>\n",
              "  </svg>\n",
              "      </button>\n",
              "      \n",
              "  <style>\n",
              "    .colab-df-container {\n",
              "      display:flex;\n",
              "      flex-wrap:wrap;\n",
              "      gap: 12px;\n",
              "    }\n",
              "\n",
              "    .colab-df-convert {\n",
              "      background-color: #E8F0FE;\n",
              "      border: none;\n",
              "      border-radius: 50%;\n",
              "      cursor: pointer;\n",
              "      display: none;\n",
              "      fill: #1967D2;\n",
              "      height: 32px;\n",
              "      padding: 0 0 0 0;\n",
              "      width: 32px;\n",
              "    }\n",
              "\n",
              "    .colab-df-convert:hover {\n",
              "      background-color: #E2EBFA;\n",
              "      box-shadow: 0px 1px 2px rgba(60, 64, 67, 0.3), 0px 1px 3px 1px rgba(60, 64, 67, 0.15);\n",
              "      fill: #174EA6;\n",
              "    }\n",
              "\n",
              "    [theme=dark] .colab-df-convert {\n",
              "      background-color: #3B4455;\n",
              "      fill: #D2E3FC;\n",
              "    }\n",
              "\n",
              "    [theme=dark] .colab-df-convert:hover {\n",
              "      background-color: #434B5C;\n",
              "      box-shadow: 0px 1px 3px 1px rgba(0, 0, 0, 0.15);\n",
              "      filter: drop-shadow(0px 1px 2px rgba(0, 0, 0, 0.3));\n",
              "      fill: #FFFFFF;\n",
              "    }\n",
              "  </style>\n",
              "\n",
              "      <script>\n",
              "        const buttonEl =\n",
              "          document.querySelector('#df-28c5cd20-080d-4650-b921-2279326d1aad button.colab-df-convert');\n",
              "        buttonEl.style.display =\n",
              "          google.colab.kernel.accessAllowed ? 'block' : 'none';\n",
              "\n",
              "        async function convertToInteractive(key) {\n",
              "          const element = document.querySelector('#df-28c5cd20-080d-4650-b921-2279326d1aad');\n",
              "          const dataTable =\n",
              "            await google.colab.kernel.invokeFunction('convertToInteractive',\n",
              "                                                     [key], {});\n",
              "          if (!dataTable) return;\n",
              "\n",
              "          const docLinkHtml = 'Like what you see? Visit the ' +\n",
              "            '<a target=\"_blank\" href=https://colab.research.google.com/notebooks/data_table.ipynb>data table notebook</a>'\n",
              "            + ' to learn more about interactive tables.';\n",
              "          element.innerHTML = '';\n",
              "          dataTable['output_type'] = 'display_data';\n",
              "          await google.colab.output.renderOutput(dataTable, element);\n",
              "          const docLink = document.createElement('div');\n",
              "          docLink.innerHTML = docLinkHtml;\n",
              "          element.appendChild(docLink);\n",
              "        }\n",
              "      </script>\n",
              "    </div>\n",
              "  </div>\n",
              "  "
            ]
          },
          "metadata": {},
          "execution_count": 15
        }
      ],
      "source": [
        "df_train"
      ]
    },
    {
      "cell_type": "code",
      "execution_count": null,
      "metadata": {
        "id": "rSd4b1Mx6OR4"
      },
      "outputs": [],
      "source": [
        "train_data_loader = create_data_loader(df_train, tokenizer, MAX_LEN, BATCH_SIZE)\n",
        "test_data_loader = create_data_loader(df_test, tokenizer, MAX_LEN, BATCH_SIZE)\n",
        "val_data_loader = create_data_loader(df_val, tokenizer, MAX_LEN, BATCH_SIZE)"
      ]
    },
    {
      "cell_type": "code",
      "execution_count": null,
      "metadata": {
        "colab": {
          "base_uri": "https://localhost:8080/"
        },
        "id": "RXmAJbDr6fVe",
        "outputId": "fc900e3b-4382-41e3-e90d-60507c6367bd"
      },
      "outputs": [
        {
          "output_type": "execute_result",
          "data": {
            "text/plain": [
              "dict_keys(['msg', 'input_ids', 'attention_mask', 'scam'])"
            ]
          },
          "metadata": {},
          "execution_count": 17
        }
      ],
      "source": [
        "d = next(iter(train_data_loader))\n",
        "d.keys()"
      ]
    },
    {
      "cell_type": "code",
      "execution_count": null,
      "metadata": {
        "colab": {
          "base_uri": "https://localhost:8080/"
        },
        "id": "awSWUDUd6xoI",
        "outputId": "d75cbfd9-e1d7-46e4-cef0-310d79527bab"
      },
      "outputs": [
        {
          "output_type": "execute_result",
          "data": {
            "text/plain": [
              "(torch.Size([16, 512]), torch.Size([16, 512]), torch.Size([16]))"
            ]
          },
          "metadata": {},
          "execution_count": 18
        }
      ],
      "source": [
        "d['input_ids'].shape, d['attention_mask'].shape, d['scam'].shape"
      ]
    },
    {
      "cell_type": "markdown",
      "metadata": {
        "id": "HDxtdPbJgY5n"
      },
      "source": [
        "# Model Building"
      ]
    },
    {
      "cell_type": "code",
      "execution_count": null,
      "metadata": {
        "id": "YXy7V_kJ8g7H"
      },
      "outputs": [],
      "source": [
        "class ScamClassifier(nn.Module):\n",
        "    def __init__(self, n_classes):\n",
        "        super(ScamClassifier, self).__init__()\n",
        "        self.bert = BertModel.from_pretrained(PRE_TRAINED_MODEL_NAME)\n",
        "        self.drop = nn.Dropout(p=0.3)\n",
        "        self.out = nn.Linear(self.bert.config.hidden_size, n_classes) # self.classifier\n",
        "    def forward(self, input_ids, attention_mask):\n",
        "        pooled_output = self.bert(\n",
        "            input_ids=input_ids,\n",
        "            attention_mask=attention_mask\n",
        "        )[1]\n",
        "        output = self.drop(pooled_output)\n",
        "        return self.out(output) # self.classifier"
      ]
    },
    {
      "cell_type": "code",
      "execution_count": null,
      "metadata": {
        "colab": {
          "base_uri": "https://localhost:8080/",
          "height": 123,
          "referenced_widgets": [
            "9681279d4990478d80958cd2be18a2f6",
            "a88c45df8b234608a01058f1be5dde72",
            "630dd993265647ca82e5ed3d4d5c42b3",
            "73e21f12dda24060bd9f08d44dbcca21",
            "9973ab140f0a4685be14267428c40003",
            "7c79be519d9245db81bd4caac9c80e23",
            "193ce0fc80ca45509b4a7073d4804c8f",
            "c1b5eaa93d2149d883ec0bbb995be9c4",
            "f7a47c910bf34ef19395b5e4a3378693",
            "89edc17322b64a55bf8985f5f01d924d",
            "d3277b14402c4025baea4194fa9164f9"
          ]
        },
        "id": "_1uiooAZPru3",
        "outputId": "3534d308-2f8b-4c62-e89f-d7bd3b63103c"
      },
      "outputs": [
        {
          "output_type": "display_data",
          "data": {
            "text/plain": [
              "Downloading pytorch_model.bin:   0%|          | 0.00/436M [00:00<?, ?B/s]"
            ],
            "application/vnd.jupyter.widget-view+json": {
              "version_major": 2,
              "version_minor": 0,
              "model_id": "9681279d4990478d80958cd2be18a2f6"
            }
          },
          "metadata": {}
        },
        {
          "output_type": "stream",
          "name": "stderr",
          "text": [
            "Some weights of the model checkpoint at bert-base-cased were not used when initializing BertModel: ['cls.seq_relationship.bias', 'cls.seq_relationship.weight', 'cls.predictions.transform.LayerNorm.bias', 'cls.predictions.decoder.weight', 'cls.predictions.transform.LayerNorm.weight', 'cls.predictions.transform.dense.weight', 'cls.predictions.transform.dense.bias', 'cls.predictions.bias']\n",
            "- This IS expected if you are initializing BertModel from the checkpoint of a model trained on another task or with another architecture (e.g. initializing a BertForSequenceClassification model from a BertForPreTraining model).\n",
            "- This IS NOT expected if you are initializing BertModel from the checkpoint of a model that you expect to be exactly identical (initializing a BertForSequenceClassification model from a BertForSequenceClassification model).\n"
          ]
        }
      ],
      "source": [
        "model = ScamClassifier(n_classes=2)\n",
        "model = model.to(device)"
      ]
    },
    {
      "cell_type": "markdown",
      "metadata": {
        "id": "2IlXMoLageQl"
      },
      "source": [
        "# Loss, Optimizer and Scheduler"
      ]
    },
    {
      "cell_type": "code",
      "execution_count": null,
      "metadata": {
        "id": "06B3UYiEP2N8"
      },
      "outputs": [],
      "source": [
        "optimizer = AdamW(model.parameters(), lr=2e-5, correct_bias=False)\n",
        "\n",
        "total_steps = len(train_data_loader) * EPOCHS\n",
        "scheduler = get_linear_schedule_with_warmup(\n",
        "  optimizer,\n",
        "  num_warmup_steps=0,\n",
        "  num_training_steps=total_steps\n",
        ")\n",
        "\n",
        "loss_fn = nn.CrossEntropyLoss().to(device)"
      ]
    },
    {
      "cell_type": "markdown",
      "metadata": {
        "id": "EHGjC_Wlgphj"
      },
      "source": [
        "# Train Model Function"
      ]
    },
    {
      "cell_type": "code",
      "execution_count": null,
      "metadata": {
        "id": "7sad0YiJRVjH"
      },
      "outputs": [],
      "source": [
        "def train(\n",
        "    model,\n",
        "    loss_fn,\n",
        "    optimizer,\n",
        "    scheduler,\n",
        "    device,\n",
        "    data_loader,\n",
        "    n_examples\n",
        "):\n",
        "    model = model.train() # Setting Model in training mode\n",
        "\n",
        "    losses = []\n",
        "    correct_predictions = 0\n",
        "\n",
        "    for d in data_loader:\n",
        "        input_ids = d['input_ids'].to(device) # [16, 512]\n",
        "        attention_mask = d['attention_mask'].to(device) # [16, 512]\n",
        "        targets = d['scam'].to(device) # [16]\n",
        "\n",
        "        # Forward Propogation\n",
        "        outputs = model(\n",
        "            input_ids=input_ids,\n",
        "            attention_mask=attention_mask\n",
        "        ) # [16, 3]\n",
        "\n",
        "        # Calculating Loss\n",
        "        loss = loss_fn(outputs, targets)\n",
        "\n",
        "        _, preds = torch.max(outputs, dim=1)\n",
        "\n",
        "        correct_predictions += torch.sum(preds == targets)\n",
        "        losses.append(loss.item())\n",
        "        \n",
        "        # Backward Propogation\n",
        "        loss.backward()\n",
        "        nn.utils.clip_grad_norm_(model.parameters(), max_norm=1.0) # Clipping Gradient (Exploding Gradient Problem)\n",
        "        optimizer.step()\n",
        "        scheduler.step()\n",
        "        optimizer.zero_grad() # Resetting gradients\n",
        "\n",
        "    train_acc = correct_predictions.double() / n_examples\n",
        "    train_loss = np.mean(losses)\n",
        "    \n",
        "    return train_acc, train_loss"
      ]
    },
    {
      "cell_type": "markdown",
      "metadata": {
        "id": "rXYnwR0KguQ-"
      },
      "source": [
        "# Validating Model Function"
      ]
    },
    {
      "cell_type": "code",
      "execution_count": null,
      "metadata": {
        "id": "G9PtqPEFenkA"
      },
      "outputs": [],
      "source": [
        "def evaluate_model(\n",
        "    model,\n",
        "    loss_fn,\n",
        "    device,\n",
        "    data_loader,\n",
        "    n_examples   \n",
        "):\n",
        "    model = model.eval() # Setting Model in evaluation mode\n",
        "\n",
        "    losses = []\n",
        "    correct_predictions = 0\n",
        "\n",
        "    with torch.no_grad():\n",
        "        for d in data_loader:\n",
        "            input_ids = d['input_ids'].to(device) # [16, 512]\n",
        "            attention_mask = d['attention_mask'].to(device) # [16, 512]\n",
        "            targets = d['scam'].to(device) # [16]\n",
        "\n",
        "            # Forward Propogation\n",
        "            outputs = model(\n",
        "                input_ids=input_ids,\n",
        "                attention_mask=attention_mask\n",
        "            ) # [16, 3]\n",
        "\n",
        "            # Calculating Loss\n",
        "            loss = loss_fn(outputs, targets)\n",
        "\n",
        "            _, preds = torch.max(outputs, dim=1)\n",
        "\n",
        "            correct_predictions += torch.sum(preds == targets)\n",
        "            losses.append(loss.item())\n",
        "        \n",
        "    train_acc = correct_predictions.double() / n_examples\n",
        "    train_loss = np.mean(losses)\n",
        "\n",
        "    return train_acc, train_loss"
      ]
    },
    {
      "cell_type": "markdown",
      "metadata": {
        "id": "tABNoeFUg1iW"
      },
      "source": [
        "# Training the Model"
      ]
    },
    {
      "cell_type": "code",
      "execution_count": null,
      "metadata": {
        "colab": {
          "base_uri": "https://localhost:8080/"
        },
        "id": "gN6kZep2aAsY",
        "outputId": "2946a3dc-6f94-40fd-eaed-e0d5535024fd"
      },
      "outputs": [
        {
          "output_type": "stream",
          "name": "stdout",
          "text": [
            "Epoch 1/10\n",
            "----------\n",
            "Train loss 0.29755287607096964 accuracy 0.9020223152022315\n",
            "Validation loss 0.15071221522015074 accuracy 0.958217270194986\n",
            "\n",
            "Epoch 2/10\n",
            "----------\n",
            "Train loss 0.174420117899879 accuracy 0.9501394700139469\n",
            "Validation loss 0.1626612198660555 accuracy 0.947075208913649\n",
            "\n",
            "Epoch 3/10\n",
            "----------\n",
            "Train loss 0.10021172973146249 accuracy 0.9752440725244073\n",
            "Validation loss 0.186416065239388 accuracy 0.9554317548746518\n",
            "\n",
            "Epoch 4/10\n",
            "----------\n",
            "Train loss 0.06180856382448433 accuracy 0.9877963737796374\n",
            "Validation loss 0.20088648945903 accuracy 0.9554317548746518\n",
            "\n",
            "Epoch 5/10\n",
            "----------\n",
            "Train loss 0.045343989123810186 accuracy 0.9905857740585774\n",
            "Validation loss 0.21728406831844832 accuracy 0.958217270194986\n",
            "\n",
            "Epoch 6/10\n",
            "----------\n",
            "Train loss 0.03250857964643122 accuracy 0.9926778242677824\n",
            "Validation loss 0.20681085287714782 accuracy 0.9637883008356546\n",
            "\n",
            "Epoch 7/10\n",
            "----------\n",
            "Train loss 0.025976068464579942 accuracy 0.9933751743375174\n",
            "Validation loss 0.24288701691598955 accuracy 0.9637883008356546\n",
            "\n",
            "Epoch 8/10\n",
            "----------\n",
            "Train loss 0.02161442734989881 accuracy 0.9937238493723849\n",
            "Validation loss 0.24578877200205487 accuracy 0.9637883008356546\n",
            "\n",
            "Epoch 9/10\n",
            "----------\n",
            "Train loss 0.019091533463587336 accuracy 0.9944211994421199\n",
            "Validation loss 0.2533275370382319 accuracy 0.9637883008356546\n",
            "\n",
            "Epoch 10/10\n",
            "----------\n",
            "Train loss 0.013792652408382209 accuracy 0.9961645746164575\n",
            "Validation loss 0.2544981950670025 accuracy 0.9637883008356546\n",
            "\n",
            "CPU times: user 45min 33s, sys: 14.4 s, total: 45min 48s\n",
            "Wall time: 46min 45s\n"
          ]
        }
      ],
      "source": [
        "%%time\n",
        "\n",
        "history = defaultdict(list)\n",
        "best_accuracy = 0\n",
        "\n",
        "for epoch in range(EPOCHS):\n",
        "    print(f'Epoch {epoch + 1}/{EPOCHS}')\n",
        "    print('-' * 10)\n",
        "\n",
        "    train_acc, train_loss = train(\n",
        "        model,\n",
        "        loss_fn,\n",
        "        optimizer,\n",
        "        scheduler,\n",
        "        device,\n",
        "        train_data_loader,\n",
        "        len(df_train)\n",
        "    )\n",
        "\n",
        "    print(f'Train loss {train_loss} accuracy {train_acc}')\n",
        "\n",
        "    val_acc, val_loss = evaluate_model(\n",
        "        model,\n",
        "        loss_fn,\n",
        "        device,\n",
        "        val_data_loader,\n",
        "        len(df_val)\n",
        "    )\n",
        "\n",
        "    print(f'Validation loss {val_loss} accuracy {val_acc}')\n",
        "    print()\n",
        "\n",
        "    history['train_acc'].append(train_acc)\n",
        "    history['train_loss'].append(train_loss)\n",
        "    history['val_acc'].append(val_acc)\n",
        "    history['val_loss'].append(val_loss)\n",
        "\n",
        "    if val_acc > best_accuracy:\n",
        "        torch.save(model.state_dict(), 'best_model_state.bin')\n",
        "        best_accuracy = val_acc"
      ]
    },
    {
      "cell_type": "markdown",
      "metadata": {
        "id": "o4Yoe_oX40bi"
      },
      "source": [
        "# Evaluating the Model Performance"
      ]
    },
    {
      "cell_type": "code",
      "execution_count": null,
      "metadata": {
        "colab": {
          "base_uri": "https://localhost:8080/"
        },
        "id": "xs-xwmWnv0Zz",
        "outputId": "1c9efb98-1dcd-4440-bfe1-9874e76135a8"
      },
      "outputs": [
        {
          "output_type": "execute_result",
          "data": {
            "text/plain": [
              "0.947075208913649"
            ]
          },
          "metadata": {},
          "execution_count": 26
        }
      ],
      "source": [
        "test_acc, _ = evaluate_model(\n",
        "    model,\n",
        "    loss_fn,\n",
        "    device,\n",
        "    test_data_loader,\n",
        "    len(df_test)\n",
        ")\n",
        "test_acc.item()"
      ]
    },
    {
      "cell_type": "code",
      "execution_count": null,
      "metadata": {
        "colab": {
          "base_uri": "https://localhost:8080/",
          "height": 659
        },
        "id": "JStEr4A9xI0K",
        "outputId": "0159ecfe-8204-4044-f87f-1f5c13dc6bcd"
      },
      "outputs": [
        {
          "output_type": "execute_result",
          "data": {
            "text/plain": [
              "(0.0, 1.0)"
            ]
          },
          "metadata": {},
          "execution_count": 27
        },
        {
          "output_type": "display_data",
          "data": {
            "text/plain": [
              "<Figure size 1000x700 with 1 Axes>"
            ],
            "image/png": "[encoded data removed]"
          },
          "metadata": {}
        }
      ],
      "source": [
        "new_history = defaultdict(list)\n",
        "\n",
        "new_history['train_acc'] = [ x.cpu() for x in history['train_acc'] ]\n",
        "new_history['val_acc'] = [ x.cpu() for x in history['val_acc'] ]\n",
        "\n",
        "plt.figure(figsize=(10, 7))\n",
        "plt.plot(new_history['train_acc'], label='train accuracy')\n",
        "plt.plot(new_history['val_acc'], label='validation accuracy')\n",
        "\n",
        "plt.title('Training history')\n",
        "plt.ylabel('Accuracy')\n",
        "plt.xlabel('Epoch')\n",
        "plt.legend()\n",
        "plt.ylim([0.8, 1])"
      ]
    },
    {
      "cell_type": "code",
      "execution_count": null,
      "metadata": {
        "id": "jxfjEVbVzhef"
      },
      "outputs": [],
      "source": [
        "def get_predictions(model, data_loader):\n",
        "    model = model.eval()\n",
        "\n",
        "    msgs = []\n",
        "    predictions = []\n",
        "    predictions_probs = []\n",
        "    real_values = []\n",
        "\n",
        "    with torch.no_grad():\n",
        "        for d in data_loader:\n",
        "            msg = d['msg']\n",
        "            input_ids = d['input_ids'].to(device)\n",
        "            attention_masks = d['attention_mask'].to(device)\n",
        "            scam = d['scam'].to(device)\n",
        "\n",
        "            outputs = model(\n",
        "                input_ids=input_ids,\n",
        "                attention_mask=attention_masks\n",
        "            )\n",
        "\n",
        "            _, preds = torch.max(outputs, dim=1)\n",
        "\n",
        "            probs = torch.nn.functional.softmax(outputs, dim=1)\n",
        "\n",
        "            msgs.extend(msg)\n",
        "            predictions.extend(preds)\n",
        "            predictions_probs.extend(probs)\n",
        "            real_values.extend(scam)\n",
        "    predictions = torch.stack(predictions).cpu()\n",
        "    predictions_probs = torch.stack(predictions_probs).cpu()\n",
        "    real_values = torch.stack(real_values).cpu()\n",
        "    return msgs, predictions, predictions_probs, real_values"
      ]
    },
    {
      "cell_type": "code",
      "execution_count": null,
      "metadata": {
        "id": "qCxXj-3F258K"
      },
      "outputs": [],
      "source": [
        "y_msgs, y_pred, y_pred_probs, y_test = get_predictions(\n",
        "  model,\n",
        "  test_data_loader\n",
        ")"
      ]
    },
    {
      "cell_type": "markdown",
      "metadata": {
        "id": "5gegGnUJ5tzp"
      },
      "source": [
        "# Creating Final Classification Report"
      ]
    },
    {
      "cell_type": "code",
      "execution_count": null,
      "metadata": {
        "id": "Ck66KbYq3Ggq"
      },
      "outputs": [],
      "source": [
        "def create_classification_report(Y_test, Y_pred):\n",
        "    print('--------Classification Report---------\\n')\n",
        "    accuracy = accuracy_score(Y_test, Y_pred)\n",
        "    f1 = f1_score(Y_test, Y_pred)\n",
        "    precision = precision_score(Y_test, Y_pred)\n",
        "    recall = recall_score(Y_test, Y_pred)\n",
        "    roc_auc = roc_auc_score(Y_test, Y_pred)\n",
        "    metrices = [accuracy, f1, precision, recall, roc_auc]\n",
        "    scores = pd.DataFrame(pd.Series(metrices).values, index=['accuracy', 'f1-score', 'precision', 'recall', 'roc auc score'], columns=['score'])\n",
        "    print(scores)\n",
        "    print('\\n--------Plotting Confusion Matrix---------')\n",
        "    sns.heatmap(confusion_matrix(Y_test, Y_pred), annot=True, cmap='RdYlGn_r', annot_kws={'size': 16})\n",
        "    return scores"
      ]
    },
    {
      "cell_type": "code",
      "execution_count": null,
      "metadata": {
        "colab": {
          "base_uri": "https://localhost:8080/",
          "height": 800
        },
        "id": "fOUdUgGM37r4",
        "outputId": "1021761e-f18c-4be8-b3e7-d0569c713d19"
      },
      "outputs": [
        {
          "output_type": "stream",
          "name": "stdout",
          "text": [
            "--------Classification Report---------\n",
            "\n",
            "                  score\n",
            "accuracy       0.947075\n",
            "f1-score       0.924901\n",
            "precision      0.928571\n",
            "recall         0.921260\n",
            "roc auc score  0.941233\n",
            "\n",
            "--------Plotting Confusion Matrix---------\n"
          ]
        },
        {
          "output_type": "execute_result",
          "data": {
            "text/plain": [
              "                  score\n",
              "accuracy       0.947075\n",
              "f1-score       0.924901\n",
              "precision      0.928571\n",
              "recall         0.921260\n",
              "roc auc score  0.941233"
            ],
            "text/html": [
              "\n",
              "  <div id=\"df-4054501b-514b-4b16-92a7-c0ecb1c83c61\">\n",
              "    <div class=\"colab-df-container\">\n",
              "      <div>\n",
              "<style scoped>\n",
              "    .dataframe tbody tr th:only-of-type {\n",
              "        vertical-align: middle;\n",
              "    }\n",
              "\n",
              "    .dataframe tbody tr th {\n",
              "        vertical-align: top;\n",
              "    }\n",
              "\n",
              "    .dataframe thead th {\n",
              "        text-align: right;\n",
              "    }\n",
              "</style>\n",
              "<table border=\"1\" class=\"dataframe\">\n",
              "  <thead>\n",
              "    <tr style=\"text-align: right;\">\n",
              "      <th></th>\n",
              "      <th>score</th>\n",
              "    </tr>\n",
              "  </thead>\n",
              "  <tbody>\n",
              "    <tr>\n",
              "      <th>accuracy</th>\n",
              "      <td>0.947075</td>\n",
              "    </tr>\n",
              "    <tr>\n",
              "      <th>f1-score</th>\n",
              "      <td>0.924901</td>\n",
              "    </tr>\n",
              "    <tr>\n",
              "      <th>precision</th>\n",
              "      <td>0.928571</td>\n",
              "    </tr>\n",
              "    <tr>\n",
              "      <th>recall</th>\n",
              "      <td>0.921260</td>\n",
              "    </tr>\n",
              "    <tr>\n",
              "      <th>roc auc score</th>\n",
              "      <td>0.941233</td>\n",
              "    </tr>\n",
              "  </tbody>\n",
              "</table>\n",
              "</div>\n",
              "      <button class=\"colab-df-convert\" onclick=\"convertToInteractive('df-4054501b-514b-4b16-92a7-c0ecb1c83c61')\"\n",
              "              title=\"Convert this dataframe to an interactive table.\"\n",
              "              style=\"display:none;\">\n",
              "        \n",
              "  <svg xmlns=\"http://www.w3.org/2000/svg\" height=\"24px\"viewBox=\"0 0 24 24\"\n",
              "       width=\"24px\">\n",
              "    <path d=\"M0 0h24v24H0V0z\" fill=\"none\"/>\n",
              "    <path d=\"M18.56 5.44l.94 2.06.94-2.06 2.06-.94-2.06-.94-.94-2.06-.94 2.06-2.06.94zm-11 1L8.5 8.5l.94-2.06 2.06-.94-2.06-.94L8.5 2.5l-.94 2.06-2.06.94zm10 10l.94 2.06.94-2.06 2.06-.94-2.06-.94-.94-2.06-.94 2.06-2.06.94z\"/><path d=\"M17.41 7.96l-1.37-1.37c-.4-.4-.92-.59-1.43-.59-.52 0-1.04.2-1.43.59L10.3 9.45l-7.72 7.72c-.78.78-.78 2.05 0 2.83L4 21.41c.39.39.9.59 1.41.59.51 0 1.02-.2 1.41-.59l7.78-7.78 2.81-2.81c.8-.78.8-2.07 0-2.86zM5.41 20L4 18.59l7.72-7.72 1.47 1.35L5.41 20z\"/>\n",
              "  </svg>\n",
              "      </button>\n",
              "      \n",
              "  <style>\n",
              "    .colab-df-container {\n",
              "      display:flex;\n",
              "      flex-wrap:wrap;\n",
              "      gap: 12px;\n",
              "    }\n",
              "\n",
              "    .colab-df-convert {\n",
              "      background-color: #E8F0FE;\n",
              "      border: none;\n",
              "      border-radius: 50%;\n",
              "      cursor: pointer;\n",
              "      display: none;\n",
              "      fill: #1967D2;\n",
              "      height: 32px;\n",
              "      padding: 0 0 0 0;\n",
              "      width: 32px;\n",
              "    }\n",
              "\n",
              "    .colab-df-convert:hover {\n",
              "      background-color: #E2EBFA;\n",
              "      box-shadow: 0px 1px 2px rgba(60, 64, 67, 0.3), 0px 1px 3px 1px rgba(60, 64, 67, 0.15);\n",
              "      fill: #174EA6;\n",
              "    }\n",
              "\n",
              "    [theme=dark] .colab-df-convert {\n",
              "      background-color: #3B4455;\n",
              "      fill: #D2E3FC;\n",
              "    }\n",
              "\n",
              "    [theme=dark] .colab-df-convert:hover {\n",
              "      background-color: #434B5C;\n",
              "      box-shadow: 0px 1px 3px 1px rgba(0, 0, 0, 0.15);\n",
              "      filter: drop-shadow(0px 1px 2px rgba(0, 0, 0, 0.3));\n",
              "      fill: #FFFFFF;\n",
              "    }\n",
              "  </style>\n",
              "\n",
              "      <script>\n",
              "        const buttonEl =\n",
              "          document.querySelector('#df-4054501b-514b-4b16-92a7-c0ecb1c83c61 button.colab-df-convert');\n",
              "        buttonEl.style.display =\n",
              "          google.colab.kernel.accessAllowed ? 'block' : 'none';\n",
              "\n",
              "        async function convertToInteractive(key) {\n",
              "          const element = document.querySelector('#df-4054501b-514b-4b16-92a7-c0ecb1c83c61');\n",
              "          const dataTable =\n",
              "            await google.colab.kernel.invokeFunction('convertToInteractive',\n",
              "                                                     [key], {});\n",
              "          if (!dataTable) return;\n",
              "\n",
              "          const docLinkHtml = 'Like what you see? Visit the ' +\n",
              "            '<a target=\"_blank\" href=https://colab.research.google.com/notebooks/data_table.ipynb>data table notebook</a>'\n",
              "            + ' to learn more about interactive tables.';\n",
              "          element.innerHTML = '';\n",
              "          dataTable['output_type'] = 'display_data';\n",
              "          await google.colab.output.renderOutput(dataTable, element);\n",
              "          const docLink = document.createElement('div');\n",
              "          docLink.innerHTML = docLinkHtml;\n",
              "          element.appendChild(docLink);\n",
              "        }\n",
              "      </script>\n",
              "    </div>\n",
              "  </div>\n",
              "  "
            ]
          },
          "metadata": {},
          "execution_count": 31
        },
        {
          "output_type": "display_data",
          "data": {
            "text/plain": [
              "<Figure size 640x480 with 2 Axes>"
            ],
            "image/png": "[encoded data removed]"
          },
          "metadata": {}
        }
      ],
      "source": [
        "create_classification_report(y_test, y_pred)"
      ]
    },
    {
      "cell_type": "code",
      "execution_count": null,
      "metadata": {
        "id": "G_yenye14IKI"
      },
      "outputs": [],
      "source": [
        "# Get prediction for a single message\n",
        "def get_single_prediction(\n",
        "    model, tokenizer, message\n",
        "):\n",
        "    model = model.eval()\n",
        "\n",
        "    message = tokenizer.encode_plus(\n",
        "        message,\n",
        "        max_length=MAX_LEN,\n",
        "        add_special_tokens=True,\n",
        "        return_token_type_ids=False,\n",
        "        pad_to_max_length=True,\n",
        "        return_attention_mask=True,\n",
        "        return_tensors='pt',\n",
        "    )\n",
        "\n",
        "    input_ids = message['input_ids'].to(device)\n",
        "    attention_mask = message['attention_mask'].to(device)\n",
        "\n",
        "    outputs = model(\n",
        "        input_ids=input_ids,\n",
        "        attention_mask=attention_mask\n",
        "    )\n",
        "\n",
        "    _, prediction = torch.max(outputs, dim=1)\n",
        "\n",
        "    return prediction.item()\n",
        "\n"
      ]
    },
    {
      "cell_type": "code",
      "execution_count": null,
      "metadata": {
        "colab": {
          "base_uri": "https://localhost:8080/"
        },
        "id": "VYLp1-52z2Hp",
        "outputId": "c752e3f4-bed7-4078-b035-557d4c9276ac"
      },
      "outputs": [
        {
          "output_type": "stream",
          "name": "stderr",
          "text": [
            "Truncation was not explicitly activated but `max_length` is provided a specific value, please use `truncation=True` to explicitly truncate examples to max length. Defaulting to 'longest_first' truncation strategy. If you encode pairs of sequences (GLUE-style) with the tokenizer you can select this strategy more precisely by providing a specific strategy to `truncation`.\n"
          ]
        },
        {
          "output_type": "stream",
          "name": "stdout",
          "text": [
            "1\n"
          ]
        }
      ],
      "source": [
        "#message = \"This is a test message\"\n",
        "message = \"Invest with our BTC manager\"\n",
        "result = get_single_prediction(model, tokenizer, message)\n",
        "print(result)"
      ]
    },
    {
      "cell_type": "code",
      "execution_count": null,
      "metadata": {
        "colab": {
          "base_uri": "https://localhost:8080/"
        },
        "id": "c9TNb0bND6RV",
        "outputId": "129f9cdb-03b4-483e-98ab-3842979f8552"
      },
      "outputs": [
        {
          "output_type": "stream",
          "name": "stdout",
          "text": [
            "0\n"
          ]
        }
      ],
      "source": [
        "\n",
        "# predict if a message is scam or not\n",
        "def predict_scam(model, msg):\n",
        "    model = model.eval()\n",
        "    msg = [msg]\n",
        "    encoding = tokenizer.encode_plus(\n",
        "        msg,\n",
        "        max_length=MAX_LEN,\n",
        "        add_special_tokens=True,\n",
        "        return_token_type_ids=False,\n",
        "        padding=True,\n",
        "        return_attention_mask=True,\n",
        "        return_tensors='pt',\n",
        "    )\n",
        "\n",
        "    input_ids = encoding['input_ids'].to(device)\n",
        "    attention_mask = encoding['attention_mask'].to(device)\n",
        "\n",
        "    output = model(\n",
        "        input_ids=input_ids,\n",
        "        attention_mask=attention_mask\n",
        "    )\n",
        "\n",
        "    _, prediction = torch.max(output, dim=1)\n",
        "\n",
        "    return prediction.item()\n",
        "\n",
        "# Predicting if a message is scam or not\n",
        "msg = \"Waking up every day to see my balance increased is the best ever happended to me. Thank you so much @harry87\"\n",
        "result = predict_scam(model, msg)\n",
        "print(result)"
      ]
    },
    {
      "cell_type": "code",
      "execution_count": null,
      "metadata": {
        "colab": {
          "base_uri": "https://localhost:8080/"
        },
        "id": "xrBWxH0tH9Bp",
        "outputId": "e3ceb29c-15b3-4be0-a547-a5fbc1431ecf"
      },
      "outputs": [
        {
          "output_type": "stream",
          "name": "stdout",
          "text": [
            "0.0001 Hi this is a test\n",
            "0.0001 Santos coin follow\n",
            "0.0036 Resources Elon! Mars or Bust?\n",
            "0.0041 This seems dumb. So let’s say I’m an individual who wants to go get the Bitcoins, I have to pay to be taken to the moon, then I can’t just go off on my own to find them, I have to pay to be taken there with a suit, a crew, vehicles and all that. Then they would’ve taken multiple others who have also payed to be taken there at the same time. I don’t get it. Seems weird 😂\n",
            "0.0001 What's a king to a god, what's a god to a non beliver, who don't belive in..\n",
            "0.9999 HI EVERYONE 𝒊𝒏 𝒍𝒂𝒔𝒕 1 𝒘𝒆𝒆𝒌 𝑰 𝒉𝒂𝒗𝒆 𝒎𝒂𝒅𝒆 𝒐𝒗𝒆𝒓 $29,000 𝒘𝒊𝒕𝒉 𝒋𝒖𝒔𝒕 𝒂𝒏 𝒊𝒏𝒗𝒆𝒔𝒕𝒎𝒆𝒏𝒕 𝒐𝒇 $1,300, 𝒊𝒕'𝒔 𝒂𝒄𝒕𝒖𝒂𝒍𝒍𝒚 𝒎𝒚 𝒇𝒊𝒓𝒔𝒕 𝒕𝒊𝒎𝒆 𝒐𝒇 𝒐𝒏𝒍𝒊𝒏𝒆 𝒕𝒓𝒂𝒅𝒆 𝒊𝒏𝒗𝒆𝒔𝒕𝒎𝒆𝒏𝒕 𝒂𝒏𝒅 𝒂𝒎 𝒈𝒍𝒂𝒅 𝑰 𝒆𝒂𝒓𝒏𝒆𝒅 𝒂𝒍𝒍 𝒕𝒉𝒂𝒏𝒌𝒔 𝒕𝒐 @invest_with_danielle_d entrepreneur 𝒂𝒏𝒅 her 𝒕𝒓𝒂𝒅𝒊𝒏𝒈 𝒕𝒆𝒂𝒎\n",
            "0.9989 Waking up every day to see my balance increased is the best ever happended to me. Thank you so much @harry87\n",
            "0.9998 Good reviews ofdaily from her techniques Almost €30,000 within the week payout on week days feels better @staci.elmafx\n"
          ]
        }
      ],
      "source": [
        "data_example = [\n",
        "    [\"Hi this is a test\", 0],\n",
        "    [\"Santos coin follow\", 0],\n",
        "    [\"Resources Elon! Mars or Bust?\", 0],\n",
        "    [\"This seems dumb. So let’s say I’m an individual who wants to go get the Bitcoins, I have to pay to be taken to the moon, then I can’t just go off on my own to find them, I have to pay to be taken there with a suit, a crew, vehicles and all that. Then they would’ve taken multiple others who have also payed to be taken there at the same time. I don’t get it. Seems weird 😂\", 0],\n",
        "    [\"What's a king to a god, what's a god to a non beliver, who don't belive in..\", 0],\n",
        "    [\"HI EVERYONE 𝒊𝒏 𝒍𝒂𝒔𝒕 1 𝒘𝒆𝒆𝒌 𝑰 𝒉𝒂𝒗𝒆 𝒎𝒂𝒅𝒆 𝒐𝒗𝒆𝒓 $29,000 𝒘𝒊𝒕𝒉 𝒋𝒖𝒔𝒕 𝒂𝒏 𝒊𝒏𝒗𝒆𝒔𝒕𝒎𝒆𝒏𝒕 𝒐𝒇 $1,300, 𝒊𝒕'𝒔 𝒂𝒄𝒕𝒖𝒂𝒍𝒍𝒚 𝒎𝒚 𝒇𝒊𝒓𝒔𝒕 𝒕𝒊𝒎𝒆 𝒐𝒇 𝒐𝒏𝒍𝒊𝒏𝒆 𝒕𝒓𝒂𝒅𝒆 𝒊𝒏𝒗𝒆𝒔𝒕𝒎𝒆𝒏𝒕 𝒂𝒏𝒅 𝒂𝒎 𝒈𝒍𝒂𝒅 𝑰 𝒆𝒂𝒓𝒏𝒆𝒅 𝒂𝒍𝒍 𝒕𝒉𝒂𝒏𝒌𝒔 𝒕𝒐 @invest_with_danielle_d entrepreneur 𝒂𝒏𝒅 her 𝒕𝒓𝒂𝒅𝒊𝒏𝒈 𝒕𝒆𝒂𝒎\", 1],\n",
        "    [\"Waking up every day to see my balance increased is the best ever happended to me. Thank you so much @harry87\", 1],\n",
        "    [\"Good reviews ofdaily from her techniques Almost €30,000 within the week payout on week days feels better @staci.elmafx\", 1]\n",
        "    ]\n",
        "df_example = pd.DataFrame(data_example, columns=['msg', 'scam'])\n",
        "example_data_loader = create_data_loader(df_example, tokenizer, MAX_LEN, BATCH_SIZE)\n",
        "\n",
        "y_ex_msgs, y_ex_pred, y_ex_pred_probs, y_ex_test = get_predictions(\n",
        "  model,\n",
        "  example_data_loader\n",
        ")\n",
        "\n",
        "for x in range(len(y_ex_msgs)): \n",
        "  print(round(y_ex_pred_probs[x][1].item(), 4), y_ex_msgs[x])\n",
        "\n",
        "#print(y_ex_msgs)\n",
        "#print(y_ex_pred[2].item())\n",
        "#print(y_ex_pred_probs[2][1])\n",
        "#print(y_ex_test)\n"
      ]
    },
    {
      "cell_type": "markdown",
      "source": [
        "# Save model"
      ],
      "metadata": {
        "id": "ijcC4G3WLkXM"
      }
    },
    {
      "cell_type": "code",
      "source": [
        "#torch.save(model.state_dict(), \"model_saved.pt\")\n",
        "# already saved automatically"
      ],
      "metadata": {
        "id": "g5PCYmXSLjx3"
      },
      "execution_count": null,
      "outputs": []
    },
    {
      "cell_type": "markdown",
      "source": [
        "#Load model"
      ],
      "metadata": {
        "id": "pBOCtH8DfbN3"
      }
    },
    {
      "cell_type": "code",
      "source": [
        "# device = torch.device('cpu')\n",
        "device_loaded = torch.device('cuda' if torch.cuda.is_available() else 'cpu')\n",
        "\n",
        "model_loaded = ScamClassifier(n_classes=2)\n",
        "model_loaded = model_loaded.to(device_loaded)\n",
        "model_loaded.bert = BertModel.from_pretrained(PRE_TRAINED_MODEL_NAME, output_attentions=True, output_hidden_states=True)\n",
        "\n",
        "model_loaded.load_state_dict(torch.load(\"best_model_state.bin\", map_location=device_loaded))\n",
        "tokenizer_loaded = BertTokenizer.from_pretrained(PRE_TRAINED_MODEL_NAME)\n",
        "\n",
        "model_loaded.to(device_loaded) # Add this line to move the model to the specified device\n",
        "\n"
      ],
      "metadata": {
        "colab": {
          "base_uri": "https://localhost:8080/"
        },
        "id": "tpGvql3XfdKY",
        "outputId": "45667814-0264-4de1-bfb7-b5320abe24e9"
      },
      "execution_count": null,
      "outputs": [
        {
          "output_type": "stream",
          "name": "stderr",
          "text": [
            "Some weights of the model checkpoint at bert-base-cased were not used when initializing BertModel: ['cls.seq_relationship.bias', 'cls.seq_relationship.weight', 'cls.predictions.transform.LayerNorm.bias', 'cls.predictions.decoder.weight', 'cls.predictions.transform.LayerNorm.weight', 'cls.predictions.transform.dense.weight', 'cls.predictions.transform.dense.bias', 'cls.predictions.bias']\n",
            "- This IS expected if you are initializing BertModel from the checkpoint of a model trained on another task or with another architecture (e.g. initializing a BertForSequenceClassification model from a BertForPreTraining model).\n",
            "- This IS NOT expected if you are initializing BertModel from the checkpoint of a model that you expect to be exactly identical (initializing a BertForSequenceClassification model from a BertForSequenceClassification model).\n",
            "Some weights of the model checkpoint at bert-base-cased were not used when initializing BertModel: ['cls.seq_relationship.bias', 'cls.seq_relationship.weight', 'cls.predictions.transform.LayerNorm.bias', 'cls.predictions.decoder.weight', 'cls.predictions.transform.LayerNorm.weight', 'cls.predictions.transform.dense.weight', 'cls.predictions.transform.dense.bias', 'cls.predictions.bias']\n",
            "- This IS expected if you are initializing BertModel from the checkpoint of a model trained on another task or with another architecture (e.g. initializing a BertForSequenceClassification model from a BertForPreTraining model).\n",
            "- This IS NOT expected if you are initializing BertModel from the checkpoint of a model that you expect to be exactly identical (initializing a BertForSequenceClassification model from a BertForSequenceClassification model).\n"
          ]
        },
        {
          "output_type": "execute_result",
          "data": {
            "text/plain": [
              "ScamClassifier(\n",
              "  (bert): BertModel(\n",
              "    (embeddings): BertEmbeddings(\n",
              "      (word_embeddings): Embedding(28996, 768, padding_idx=0)\n",
              "      (position_embeddings): Embedding(512, 768)\n",
              "      (token_type_embeddings): Embedding(2, 768)\n",
              "      (LayerNorm): LayerNorm((768,), eps=1e-12, elementwise_affine=True)\n",
              "      (dropout): Dropout(p=0.1, inplace=False)\n",
              "    )\n",
              "    (encoder): BertEncoder(\n",
              "      (layer): ModuleList(\n",
              "        (0-11): 12 x BertLayer(\n",
              "          (attention): BertAttention(\n",
              "            (self): BertSelfAttention(\n",
              "              (query): Linear(in_features=768, out_features=768, bias=True)\n",
              "              (key): Linear(in_features=768, out_features=768, bias=True)\n",
              "              (value): Linear(in_features=768, out_features=768, bias=True)\n",
              "              (dropout): Dropout(p=0.1, inplace=False)\n",
              "            )\n",
              "            (output): BertSelfOutput(\n",
              "              (dense): Linear(in_features=768, out_features=768, bias=True)\n",
              "              (LayerNorm): LayerNorm((768,), eps=1e-12, elementwise_affine=True)\n",
              "              (dropout): Dropout(p=0.1, inplace=False)\n",
              "            )\n",
              "          )\n",
              "          (intermediate): BertIntermediate(\n",
              "            (dense): Linear(in_features=768, out_features=3072, bias=True)\n",
              "            (intermediate_act_fn): GELUActivation()\n",
              "          )\n",
              "          (output): BertOutput(\n",
              "            (dense): Linear(in_features=3072, out_features=768, bias=True)\n",
              "            (LayerNorm): LayerNorm((768,), eps=1e-12, elementwise_affine=True)\n",
              "            (dropout): Dropout(p=0.1, inplace=False)\n",
              "          )\n",
              "        )\n",
              "      )\n",
              "    )\n",
              "    (pooler): BertPooler(\n",
              "      (dense): Linear(in_features=768, out_features=768, bias=True)\n",
              "      (activation): Tanh()\n",
              "    )\n",
              "  )\n",
              "  (drop): Dropout(p=0.3, inplace=False)\n",
              "  (out): Linear(in_features=768, out_features=2, bias=True)\n",
              ")"
            ]
          },
          "metadata": {},
          "execution_count": 37
        }
      ]
    },
    {
      "cell_type": "code",
      "source": [
        "def create_data_loader_loaded(df, tokenizer_loaded, max_len, batch_size):\n",
        "    ds = ScamCollectionDataset(\n",
        "        scam=df['scam'].to_numpy(),\n",
        "        msgs=df['msg'].to_numpy(),\n",
        "        tokenizer=tokenizer_loaded,\n",
        "        max_len=max_len\n",
        "    )\n",
        "\n",
        "    return DataLoader(\n",
        "        ds,\n",
        "        batch_size=batch_size,\n",
        "        num_workers=4\n",
        "    )"
      ],
      "metadata": {
        "id": "zxXoZzygIFJi"
      },
      "execution_count": null,
      "outputs": []
    },
    {
      "cell_type": "code",
      "source": [
        "def get_predictions_loaded(model_loaded, data_loader_loaded):\n",
        "    model_loaded = model_loaded.eval()\n",
        "\n",
        "    msgs = []\n",
        "    predictions = []\n",
        "    predictions_probs = []\n",
        "    real_values = []\n",
        "\n",
        "    with torch.no_grad():\n",
        "        for d in data_loader_loaded:\n",
        "            msg = d['msg']\n",
        "            input_ids = d['input_ids'].to(device_loaded)\n",
        "            attention_masks = d['attention_mask'].to(device_loaded)\n",
        "            scam = d['scam'].to(device_loaded)\n",
        "\n",
        "            outputs = model_loaded(\n",
        "                input_ids=input_ids,\n",
        "                attention_mask=attention_masks\n",
        "            )\n",
        "\n",
        "            _, preds = torch.max(outputs, dim=1)\n",
        "\n",
        "            probs = torch.nn.functional.softmax(outputs, dim=1)\n",
        "\n",
        "            msgs.extend(msg)\n",
        "            predictions.extend(preds)\n",
        "            predictions_probs.extend(probs)\n",
        "            real_values.extend(scam)\n",
        "    predictions = torch.stack(predictions).cpu()\n",
        "    predictions_probs = torch.stack(predictions_probs).cpu()\n",
        "    real_values = torch.stack(real_values).cpu()\n",
        "    return msgs, predictions, predictions_probs, real_values"
      ],
      "metadata": {
        "id": "hXlXEYYMGYXT"
      },
      "execution_count": null,
      "outputs": []
    },
    {
      "cell_type": "code",
      "execution_count": null,
      "metadata": {
        "colab": {
          "base_uri": "https://localhost:8080/"
        },
        "outputId": "8f06ae94-0ac2-4c9c-d3f0-4c027d219fb0",
        "id": "RyVmLZLgCLeA"
      },
      "outputs": [
        {
          "output_type": "stream",
          "name": "stdout",
          "text": [
            "0.0006 Hi this is a test\n",
            "0.0004 Santos coin follow\n",
            "0.0373 Resources Elon! Mars or Bust?\n",
            "0.4373 This seems dumb. So let’s say I’m an individual who wants to go get the Bitcoins, I have to pay to be taken to the moon, then I can’t just go off on my own to find them, I have to pay to be taken there with a suit, a crew, vehicles and all that. Then they would’ve taken multiple others who have also payed to be taken there at the same time. I don’t get it. Seems weird 😂\n",
            "0.0008 What's a king to a god, what's a god to a non beliver, who don't belive in..\n",
            "0.9996 HI EVERYONE 𝒊𝒏 𝒍𝒂𝒔𝒕 1 𝒘𝒆𝒆𝒌 𝑰 𝒉𝒂𝒗𝒆 𝒎𝒂𝒅𝒆 𝒐𝒗𝒆𝒓 $29,000 𝒘𝒊𝒕𝒉 𝒋𝒖𝒔𝒕 𝒂𝒏 𝒊𝒏𝒗𝒆𝒔𝒕𝒎𝒆𝒏𝒕 𝒐𝒇 $1,300, 𝒊𝒕'𝒔 𝒂𝒄𝒕𝒖𝒂𝒍𝒍𝒚 𝒎𝒚 𝒇𝒊𝒓𝒔𝒕 𝒕𝒊𝒎𝒆 𝒐𝒇 𝒐𝒏𝒍𝒊𝒏𝒆 𝒕𝒓𝒂𝒅𝒆 𝒊𝒏𝒗𝒆𝒔𝒕𝒎𝒆𝒏𝒕 𝒂𝒏𝒅 𝒂𝒎 𝒈𝒍𝒂𝒅 𝑰 𝒆𝒂𝒓𝒏𝒆𝒅 𝒂𝒍𝒍 𝒕𝒉𝒂𝒏𝒌𝒔 𝒕𝒐 @invest_with_danielle_d entrepreneur 𝒂𝒏𝒅 her 𝒕𝒓𝒂𝒅𝒊𝒏𝒈 𝒕𝒆𝒂𝒎\n",
            "0.9953 Waking up every day to see my balance increased is the best ever happended to me. Thank you so much @harry87\n",
            "0.9995 Good reviews ofdaily from her techniques Almost €30,000 within the week payout on week days feels better @staci.elmafx\n"
          ]
        }
      ],
      "source": [
        "data_example_loaded = [\n",
        "    [\"Hi this is a test\", 0],\n",
        "    [\"Santos coin follow\", 0],\n",
        "    [\"Resources Elon! Mars or Bust?\", 0],\n",
        "    [\"This seems dumb. So let’s say I’m an individual who wants to go get the Bitcoins, I have to pay to be taken to the moon, then I can’t just go off on my own to find them, I have to pay to be taken there with a suit, a crew, vehicles and all that. Then they would’ve taken multiple others who have also payed to be taken there at the same time. I don’t get it. Seems weird 😂\", 0],\n",
        "    [\"What's a king to a god, what's a god to a non beliver, who don't belive in..\", 0],\n",
        "    [\"HI EVERYONE 𝒊𝒏 𝒍𝒂𝒔𝒕 1 𝒘𝒆𝒆𝒌 𝑰 𝒉𝒂𝒗𝒆 𝒎𝒂𝒅𝒆 𝒐𝒗𝒆𝒓 $29,000 𝒘𝒊𝒕𝒉 𝒋𝒖𝒔𝒕 𝒂𝒏 𝒊𝒏𝒗𝒆𝒔𝒕𝒎𝒆𝒏𝒕 𝒐𝒇 $1,300, 𝒊𝒕'𝒔 𝒂𝒄𝒕𝒖𝒂𝒍𝒍𝒚 𝒎𝒚 𝒇𝒊𝒓𝒔𝒕 𝒕𝒊𝒎𝒆 𝒐𝒇 𝒐𝒏𝒍𝒊𝒏𝒆 𝒕𝒓𝒂𝒅𝒆 𝒊𝒏𝒗𝒆𝒔𝒕𝒎𝒆𝒏𝒕 𝒂𝒏𝒅 𝒂𝒎 𝒈𝒍𝒂𝒅 𝑰 𝒆𝒂𝒓𝒏𝒆𝒅 𝒂𝒍𝒍 𝒕𝒉𝒂𝒏𝒌𝒔 𝒕𝒐 @invest_with_danielle_d entrepreneur 𝒂𝒏𝒅 her 𝒕𝒓𝒂𝒅𝒊𝒏𝒈 𝒕𝒆𝒂𝒎\", 1],\n",
        "    [\"Waking up every day to see my balance increased is the best ever happended to me. Thank you so much @harry87\", 1],\n",
        "    [\"Good reviews ofdaily from her techniques Almost €30,000 within the week payout on week days feels better @staci.elmafx\", 1]\n",
        "    ]\n",
        "df_example_loaded = pd.DataFrame(data_example_loaded, columns=['msg', 'scam'])\n",
        "example_data_loader_loaded = create_data_loader_loaded(df_example_loaded, tokenizer_loaded, MAX_LEN, BATCH_SIZE)\n",
        "\n",
        "y_ex_msgs, y_ex_pred, y_ex_pred_probs, y_ex_test = get_predictions_loaded(\n",
        "  model_loaded,\n",
        "  example_data_loader_loaded\n",
        ")\n",
        "\n",
        "for x in range(len(y_ex_msgs)): \n",
        "  print(round(y_ex_pred_probs[x][1].item(), 4), y_ex_msgs[x])\n",
        "\n",
        "#print(y_ex_msgs)\n",
        "#print(y_ex_pred[2].item())\n",
        "#print(y_ex_pred_probs[2][1])\n",
        "#print(y_ex_test)\n"
      ]
    }
  ],
  "metadata": {
    "accelerator": "GPU",
    "colab": {
      "provenance": []
    },
    "kernelspec": {
      "display_name": "Python 3",
      "name": "python3"
    },
    "widgets": {
      "application/vnd.jupyter.widget-state+json": {
        "9681279d4990478d80958cd2be18a2f6": {
          "model_module": "@jupyter-widgets/controls",
          "model_name": "HBoxModel",
          "model_module_version": "1.5.0",
          "state": {
            "_dom_classes": [],
            "_model_module": "@jupyter-widgets/controls",
            "_model_module_version": "1.5.0",
            "_model_name": "HBoxModel",
            "_view_count": null,
            "_view_module": "@jupyter-widgets/controls",
            "_view_module_version": "1.5.0",
            "_view_name": "HBoxView",
            "box_style": "",
            "children": [
              "IPY_MODEL_a88c45df8b234608a01058f1be5dde72",
              "IPY_MODEL_630dd993265647ca82e5ed3d4d5c42b3",
              "IPY_MODEL_73e21f12dda24060bd9f08d44dbcca21"
            ],
            "layout": "IPY_MODEL_9973ab140f0a4685be14267428c40003"
          }
        },
        "a88c45df8b234608a01058f1be5dde72": {
          "model_module": "@jupyter-widgets/controls",
          "model_name": "HTMLModel",
          "model_module_version": "1.5.0",
          "state": {
            "_dom_classes": [],
            "_model_module": "@jupyter-widgets/controls",
            "_model_module_version": "1.5.0",
            "_model_name": "HTMLModel",
            "_view_count": null,
            "_view_module": "@jupyter-widgets/controls",
            "_view_module_version": "1.5.0",
            "_view_name": "HTMLView",
            "description": "",
            "description_tooltip": null,
            "layout": "IPY_MODEL_7c79be519d9245db81bd4caac9c80e23",
            "placeholder": "​",
            "style": "IPY_MODEL_193ce0fc80ca45509b4a7073d4804c8f",
            "value": "Downloading pytorch_model.bin: 100%"
          }
        },
        "630dd993265647ca82e5ed3d4d5c42b3": {
          "model_module": "@jupyter-widgets/controls",
          "model_name": "FloatProgressModel",
          "model_module_version": "1.5.0",
          "state": {
            "_dom_classes": [],
            "_model_module": "@jupyter-widgets/controls",
            "_model_module_version": "1.5.0",
            "_model_name": "FloatProgressModel",
            "_view_count": null,
            "_view_module": "@jupyter-widgets/controls",
            "_view_module_version": "1.5.0",
            "_view_name": "ProgressView",
            "bar_style": "success",
            "description": "",
            "description_tooltip": null,
            "layout": "IPY_MODEL_c1b5eaa93d2149d883ec0bbb995be9c4",
            "max": 435779157,
            "min": 0,
            "orientation": "horizontal",
            "style": "IPY_MODEL_f7a47c910bf34ef19395b5e4a3378693",
            "value": 435779157
          }
        },
        "73e21f12dda24060bd9f08d44dbcca21": {
          "model_module": "@jupyter-widgets/controls",
          "model_name": "HTMLModel",
          "model_module_version": "1.5.0",
          "state": {
            "_dom_classes": [],
            "_model_module": "@jupyter-widgets/controls",
            "_model_module_version": "1.5.0",
            "_model_name": "HTMLModel",
            "_view_count": null,
            "_view_module": "@jupyter-widgets/controls",
            "_view_module_version": "1.5.0",
            "_view_name": "HTMLView",
            "description": "",
            "description_tooltip": null,
            "layout": "IPY_MODEL_89edc17322b64a55bf8985f5f01d924d",
            "placeholder": "​",
            "style": "IPY_MODEL_d3277b14402c4025baea4194fa9164f9",
            "value": " 436M/436M [00:01&lt;00:00, 313MB/s]"
          }
        },
        "9973ab140f0a4685be14267428c40003": {
          "model_module": "@jupyter-widgets/base",
          "model_name": "LayoutModel",
          "model_module_version": "1.2.0",
          "state": {
            "_model_module": "@jupyter-widgets/base",
            "_model_module_version": "1.2.0",
            "_model_name": "LayoutModel",
            "_view_count": null,
            "_view_module": "@jupyter-widgets/base",
            "_view_module_version": "1.2.0",
            "_view_name": "LayoutView",
            "align_content": null,
            "align_items": null,
            "align_self": null,
            "border": null,
            "bottom": null,
            "display": null,
            "flex": null,
            "flex_flow": null,
            "grid_area": null,
            "grid_auto_columns": null,
            "grid_auto_flow": null,
            "grid_auto_rows": null,
            "grid_column": null,
            "grid_gap": null,
            "grid_row": null,
            "grid_template_areas": null,
            "grid_template_columns": null,
            "grid_template_rows": null,
            "height": null,
            "justify_content": null,
            "justify_items": null,
            "left": null,
            "margin": null,
            "max_height": null,
            "max_width": null,
            "min_height": null,
            "min_width": null,
            "object_fit": null,
            "object_position": null,
            "order": null,
            "overflow": null,
            "overflow_x": null,
            "overflow_y": null,
            "padding": null,
            "right": null,
            "top": null,
            "visibility": null,
            "width": null
          }
        },
        "7c79be519d9245db81bd4caac9c80e23": {
          "model_module": "@jupyter-widgets/base",
          "model_name": "LayoutModel",
          "model_module_version": "1.2.0",
          "state": {
            "_model_module": "@jupyter-widgets/base",
            "_model_module_version": "1.2.0",
            "_model_name": "LayoutModel",
            "_view_count": null,
            "_view_module": "@jupyter-widgets/base",
            "_view_module_version": "1.2.0",
            "_view_name": "LayoutView",
            "align_content": null,
            "align_items": null,
            "align_self": null,
            "border": null,
            "bottom": null,
            "display": null,
            "flex": null,
            "flex_flow": null,
            "grid_area": null,
            "grid_auto_columns": null,
            "grid_auto_flow": null,
            "grid_auto_rows": null,
            "grid_column": null,
            "grid_gap": null,
            "grid_row": null,
            "grid_template_areas": null,
            "grid_template_columns": null,
            "grid_template_rows": null,
            "height": null,
            "justify_content": null,
            "justify_items": null,
            "left": null,
            "margin": null,
            "max_height": null,
            "max_width": null,
            "min_height": null,
            "min_width": null,
            "object_fit": null,
            "object_position": null,
            "order": null,
            "overflow": null,
            "overflow_x": null,
            "overflow_y": null,
            "padding": null,
            "right": null,
            "top": null,
            "visibility": null,
            "width": null
          }
        },
        "193ce0fc80ca45509b4a7073d4804c8f": {
          "model_module": "@jupyter-widgets/controls",
          "model_name": "DescriptionStyleModel",
          "model_module_version": "1.5.0",
          "state": {
            "_model_module": "@jupyter-widgets/controls",
            "_model_module_version": "1.5.0",
            "_model_name": "DescriptionStyleModel",
            "_view_count": null,
            "_view_module": "@jupyter-widgets/base",
            "_view_module_version": "1.2.0",
            "_view_name": "StyleView",
            "description_width": ""
          }
        },
        "c1b5eaa93d2149d883ec0bbb995be9c4": {
          "model_module": "@jupyter-widgets/base",
          "model_name": "LayoutModel",
          "model_module_version": "1.2.0",
          "state": {
            "_model_module": "@jupyter-widgets/base",
            "_model_module_version": "1.2.0",
            "_model_name": "LayoutModel",
            "_view_count": null,
            "_view_module": "@jupyter-widgets/base",
            "_view_module_version": "1.2.0",
            "_view_name": "LayoutView",
            "align_content": null,
            "align_items": null,
            "align_self": null,
            "border": null,
            "bottom": null,
            "display": null,
            "flex": null,
            "flex_flow": null,
            "grid_area": null,
            "grid_auto_columns": null,
            "grid_auto_flow": null,
            "grid_auto_rows": null,
            "grid_column": null,
            "grid_gap": null,
            "grid_row": null,
            "grid_template_areas": null,
            "grid_template_columns": null,
            "grid_template_rows": null,
            "height": null,
            "justify_content": null,
            "justify_items": null,
            "left": null,
            "margin": null,
            "max_height": null,
            "max_width": null,
            "min_height": null,
            "min_width": null,
            "object_fit": null,
            "object_position": null,
            "order": null,
            "overflow": null,
            "overflow_x": null,
            "overflow_y": null,
            "padding": null,
            "right": null,
            "top": null,
            "visibility": null,
            "width": null
          }
        },
        "f7a47c910bf34ef19395b5e4a3378693": {
          "model_module": "@jupyter-widgets/controls",
          "model_name": "ProgressStyleModel",
          "model_module_version": "1.5.0",
          "state": {
            "_model_module": "@jupyter-widgets/controls",
            "_model_module_version": "1.5.0",
            "_model_name": "ProgressStyleModel",
            "_view_count": null,
            "_view_module": "@jupyter-widgets/base",
            "_view_module_version": "1.2.0",
            "_view_name": "StyleView",
            "bar_color": null,
            "description_width": ""
          }
        },
        "89edc17322b64a55bf8985f5f01d924d": {
          "model_module": "@jupyter-widgets/base",
          "model_name": "LayoutModel",
          "model_module_version": "1.2.0",
          "state": {
            "_model_module": "@jupyter-widgets/base",
            "_model_module_version": "1.2.0",
            "_model_name": "LayoutModel",
            "_view_count": null,
            "_view_module": "@jupyter-widgets/base",
            "_view_module_version": "1.2.0",
            "_view_name": "LayoutView",
            "align_content": null,
            "align_items": null,
            "align_self": null,
            "border": null,
            "bottom": null,
            "display": null,
            "flex": null,
            "flex_flow": null,
            "grid_area": null,
            "grid_auto_columns": null,
            "grid_auto_flow": null,
            "grid_auto_rows": null,
            "grid_column": null,
            "grid_gap": null,
            "grid_row": null,
            "grid_template_areas": null,
            "grid_template_columns": null,
            "grid_template_rows": null,
            "height": null,
            "justify_content": null,
            "justify_items": null,
            "left": null,
            "margin": null,
            "max_height": null,
            "max_width": null,
            "min_height": null,
            "min_width": null,
            "object_fit": null,
            "object_position": null,
            "order": null,
            "overflow": null,
            "overflow_x": null,
            "overflow_y": null,
            "padding": null,
            "right": null,
            "top": null,
            "visibility": null,
            "width": null
          }
        },
        "d3277b14402c4025baea4194fa9164f9": {
          "model_module": "@jupyter-widgets/controls",
          "model_name": "DescriptionStyleModel",
          "model_module_version": "1.5.0",
          "state": {
            "_model_module": "@jupyter-widgets/controls",
            "_model_module_version": "1.5.0",
            "_model_name": "DescriptionStyleModel",
            "_view_count": null,
            "_view_module": "@jupyter-widgets/base",
            "_view_module_version": "1.2.0",
            "_view_name": "StyleView",
            "description_width": ""
          }
        }
      }
    },
    "gpuClass": "standard"
  },
  "nbformat": 4,
  "nbformat_minor": 0
}